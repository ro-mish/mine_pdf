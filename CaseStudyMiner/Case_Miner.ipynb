{
 "cells": [
  {
   "cell_type": "code",
   "execution_count": 1,
   "metadata": {},
   "outputs": [],
   "source": [
    "#Rohit Mishra\n",
    "#pdf data collection pt 1\n",
    "import numpy as np\n",
    "import pandas as pd\n",
    "import pdfminer\n",
    "from PyPDF2 import PdfFileReader\n",
    "import matplotlib.pyplot as plt"
   ]
  },
  {
   "cell_type": "code",
   "execution_count": 7,
   "metadata": {},
   "outputs": [
    {
     "name": "stdout",
     "output_type": "stream",
     "text": [
      "['13' 'Strategy' 'Goals' 'and' 'Effectiveness' '' 'brand' 'goals' 'can'\n",
      " 'be' 'split' 'up' 'into' 'a' 'few' 'main' 'categories,' 'their' 'low' '-'\n",
      " 'price' 'advantage,' 'their' 'digitally' 'augmented' 'catalogue' 'and'\n",
      " 'their' 'in' '-' 'store' 'experience' '.' 'IKEA' 'seeks' 'to' 'provide'\n",
      " 'furniture' 'at' 'a' 'low' 'price' 'that' 'is' 'affordable' 'to' 'as'\n",
      " 'many' 'homeowners' 'as' 'possible' '.' 'The' 'main' 'way' '' 'able' 'to'\n",
      " 'do' 'this' 'is' 'by' 'creating' 'easy' 'to' 'assemble' 'furniture' 'in'\n",
      " 'bulk' 'that' 'is' 'packed' 'and' 'sold' 'in' 'efficient' 'packaging' '.'\n",
      " 'Their' 'pricing' 'is' 'so' 'aggressive' 'that' 'despite' 'external'\n",
      " 'factors' 'like' 'inflation' 'and' 'product' 'costs,' 'there' 'is'\n",
      " 'still' 'a' '2' '-' '3' '%' 'decrease' 'in' 'cost' 'every' 'year' 'on'\n",
      " 'existing' 'products' '.' 'Their' 'catalogue' 'is' 'their' 'major'\n",
      " 'industry' 'advantage' 'when' 'it' 'comes' 'to' 'content,' 'bringing'\n",
      " 'in' 'numerous' 'new' 'customers' 'every' 'year' 'and' 'offering' 'their'\n",
      " 'existing' 'users' 'a' 'way' 'to' 'digitally' 'interact' 'with' 'their'\n",
      " 'products' 'in' 'innovative' 'new' 'ways' '.' 'They' 'used' 'AR' 'to'\n",
      " 'let' 'readers' 'place' 'furniture' 'in' 'their' 'home' 'to' 'help'\n",
      " 'them' 'plan' 'and' 'know' 'what' 'they' 'wanted' 'prior' 'to' 'coming'\n",
      " 'in' '-' 'store' '.' 'Further' 'leveraging' 'their' \"catalogue's\"\n",
      " 'market' 'dominance' 'through' 'video' 'and' 'comedy,' 'IKEA' 'gained'\n",
      " 'international' 'acclaim' 'for' 'their' 'brilliant' 'strategy' '.' 'The'\n",
      " 'in' '-' 'store' 'experience' 'of' 'IKEA' 'is' 'a' 'marketing' 'marvel'\n",
      " 'on' 'its' 'own' 'as' 'they' 'guide' 'their' 'users' 'through' 'a' 'maze'\n",
      " 'and' 'showcase' 'their' 'entire' 'line' 'of' 'products' 'throughout'\n",
      " 'the' 'store' '.' 'This' 'means' 'that' 'even' 'if' 'a' 'customer' 'is'\n",
      " 'only' 'at' 'their' 'location' 'to' 'get' 'a' 'singular' 'item,' 'they'\n",
      " 'are' 'still' 'looking' 'at' 'the' 'rest' 'of' 'their' 'diverse'\n",
      " 'product' 'line' '.' 'Marketing' 'Shortfalls' 'IKEA' 'was' 'heavily'\n",
      " 'critiqued' 'in' 'their' 'push' 'into' 'the' 'American' 'market,' 'since'\n",
      " 'not' 'enough' 'market' 'research' 'was' 'conducted' 'prior' 'to' 'their'\n",
      " 'entry' '.' 'The' 'furniture' 'market' 'in' 'the' 'United' 'States' 'was'\n",
      " 'a' 'heavily' 'fragmented' 'market' 'where' 'the' 'top' '10' 'retailers'\n",
      " 'were' 'only' 'responsible' 'for' '14' '.' '2' '%' 'market' 'share' 'in'\n",
      " 'the' 'industry' '.' 'The' 'low' '-' 'end' 'providers' 'included'\n",
      " 'Walmart' 'and' 'Target' 'which' 'sold' 'products' 'at' 'a' 'discount,'\n",
      " 'and' 'consequently' 'lower' 'quality' '.' 'Higher' 'end' 'providers'\n",
      " 'are' 'consulted' 'on' 'the' 'interior' 'design' 'and' 'offered' 'well'\n",
      " '-' 'built' 'furniture' 'that' 'would' 'last' 'a' 'lifetime' 'to' 'make'\n",
      " 'up' 'for' 'their' 'high' 'cost' '.' 'When' 'IKEA' 'attempted' 'to'\n",
      " 'launch,' 'they' 'did' 'not' 'account' 'for' 'the' 'change' 'in'\n",
      " 'measurement' 'required' 'to' 'sell' 'to' 'the' 'American' 'population'\n",
      " 'and' 'instead' 'sold' 'instructions' 'which' 'contained' 'metric'\n",
      " 'measurements' '.' 'This' 'had' 'a' 'significant' 'negative' 'impact,'\n",
      " 'especially' 'when' 'their' 'pre' '-' 'set' 'sizes' 'did' 'not' 'fit'\n",
      " 'into' 'households' '.' 'Forcing' 'the' 'homeowners' 'to' 'assemble'\n",
      " 'their' 'own' 'furniture' 'was' 'also' 'not' 'immediately' 'accepted'\n",
      " 'by' 'the' 'US' 'population,' 'as' 'they' 'were' 'not' 'used' 'to' 'a'\n",
      " 'self' '-' 'service' 'model' '.' 'These' 'errors' 'have' 'not' 'hurt'\n",
      " 'the' 'company' 'long' 'term,' 'as' 'they' 'have' 'more' 'sales' 'in'\n",
      " 'the' 'US' 'than' 'any' 'other' 'furniture' 'provider' 'except' 'Ashley'\n",
      " 'Furniture' '.' '']\n"
     ]
    }
   ],
   "source": [
    "#Opens file\n",
    "file = open('EvolutionofContentMarketingwithCaseStudies.pdf', 'rb')\n",
    "\n",
    "#Uses PyPDF2 library, opens file\n",
    "fileReader = PdfFileReader(file, 'rb')\n",
    "\n",
    "#Assigns text from page to pg object\n",
    "pgObj = fileReader.getPage(13)\n",
    "\n",
    "#Gets text data from the page\n",
    "text = pgObj.extractText()\n",
    "\n",
    "#removes lines by assigning new line as delimiter\n",
    "case_arr = text.split('\\n')\n",
    "#assigns this text data to numpy array\n",
    "case = np.array(case_arr)\n",
    "print(case)"
   ]
  },
  {
   "cell_type": "code",
   "execution_count": 8,
   "metadata": {},
   "outputs": [
    {
     "name": "stdout",
     "output_type": "stream",
     "text": [
      "0\n",
      "6\n",
      "7\n",
      "0\n",
      "0\n"
     ]
    }
   ],
   "source": [
    "#Reading through each line\n",
    "#We set up a count for a specific word\n",
    "#We can specify any word here\n",
    "\n",
    "rev_count = 0\n",
    "prod_count = 0\n",
    "market_count = 0\n",
    "feature_count = 0\n",
    "best_count = 0\n",
    "\n",
    "for i in case:\n",
    "    if('revenue' in i):\n",
    "        rev_count += 1\n",
    "    if('product' in i):\n",
    "        prod_count += 1\n",
    "    if('market' in i):\n",
    "        market_count += 1\n",
    "    if('feature' in i):\n",
    "        feature_count += 1\n",
    "    if('best' in i):\n",
    "        best_count  +=1\n",
    "        \n",
    "print(rev_count)\n",
    "print(prod_count)\n",
    "print(market_count)\n",
    "print(feature_count)\n",
    "print(best_count)"
   ]
  },
  {
   "cell_type": "code",
   "execution_count": 9,
   "metadata": {},
   "outputs": [
    {
     "data": {
      "text/html": [
       "<div>\n",
       "<style scoped>\n",
       "    .dataframe tbody tr th:only-of-type {\n",
       "        vertical-align: middle;\n",
       "    }\n",
       "\n",
       "    .dataframe tbody tr th {\n",
       "        vertical-align: top;\n",
       "    }\n",
       "\n",
       "    .dataframe thead th {\n",
       "        text-align: right;\n",
       "    }\n",
       "</style>\n",
       "<table border=\"1\" class=\"dataframe\">\n",
       "  <thead>\n",
       "    <tr style=\"text-align: right;\">\n",
       "      <th></th>\n",
       "      <th>word</th>\n",
       "      <th>count</th>\n",
       "    </tr>\n",
       "  </thead>\n",
       "  <tbody>\n",
       "    <tr>\n",
       "      <td>0</td>\n",
       "      <td>revenue</td>\n",
       "      <td>0</td>\n",
       "    </tr>\n",
       "    <tr>\n",
       "      <td>1</td>\n",
       "      <td>product</td>\n",
       "      <td>6</td>\n",
       "    </tr>\n",
       "    <tr>\n",
       "      <td>2</td>\n",
       "      <td>market</td>\n",
       "      <td>7</td>\n",
       "    </tr>\n",
       "    <tr>\n",
       "      <td>3</td>\n",
       "      <td>feature</td>\n",
       "      <td>0</td>\n",
       "    </tr>\n",
       "  </tbody>\n",
       "</table>\n",
       "</div>"
      ],
      "text/plain": [
       "      word  count\n",
       "0  revenue      0\n",
       "1  product      6\n",
       "2   market      7\n",
       "3  feature      0"
      ]
     },
     "execution_count": 9,
     "metadata": {},
     "output_type": "execute_result"
    }
   ],
   "source": [
    "count_arr = np.array([rev_count, prod_count, market_count, feature_count])\n",
    "category_arr = np.array(['revenue', 'product', 'market', 'feature'])\n",
    "dfDict = {'word' : category_arr, 'count' : count_arr}\n",
    "word_df = pd.DataFrame(data = dfDict)\n",
    "\n",
    "word_df"
   ]
  },
  {
   "cell_type": "code",
   "execution_count": 10,
   "metadata": {},
   "outputs": [
    {
     "data": {
      "text/plain": [
       "<BarContainer object of 4 artists>"
      ]
     },
     "execution_count": 10,
     "metadata": {},
     "output_type": "execute_result"
    },
    {
     "data": {
      "image/png": "[encoded data removed]",
      "text/plain": [
       "<Figure size 432x288 with 1 Axes>"
      ]
     },
     "metadata": {
      "needs_background": "light"
     },
     "output_type": "display_data"
    }
   ],
   "source": [
    "plt.bar(category_arr, count_arr)"
   ]
  },
  {
   "cell_type": "code",
   "execution_count": null,
   "metadata": {},
   "outputs": [],
   "source": [
    "#display which section to focus on\n",
    "max(word_df.get('count'))\n",
    "#word_df.groupby(by = 'word')\n",
    "#word_df.reindex('word')\n",
    "prop_arr = np.array([])\n",
    "\n",
    "total_ct = word_df.get('count').sum()\n",
    "\n",
    "#for i in count_arr:\n",
    "    #count = word_df.loc[i].get('count')\n",
    "    #prop = count/total_ct\n",
    "    #np.append(prop_arr,prop)\n"
   ]
  },
  {
   "cell_type": "code",
   "execution_count": null,
   "metadata": {},
   "outputs": [],
   "source": [
    "\n"
   ]
  },
  {
   "cell_type": "code",
   "execution_count": null,
   "metadata": {},
   "outputs": [],
   "source": []
  }
 ],
 "metadata": {
  "kernelspec": {
   "display_name": "Python 3",
   "language": "python",
   "name": "python3"
  },
  "language_info": {
   "codemirror_mode": {
    "name": "ipython",
    "version": 3
   },
   "file_extension": ".py",
   "mimetype": "text/x-python",
   "name": "python",
   "nbconvert_exporter": "python",
   "pygments_lexer": "ipython3",
   "version": "3.7.4"
  }
 },
 "nbformat": 4,
 "nbformat_minor": 4
}
